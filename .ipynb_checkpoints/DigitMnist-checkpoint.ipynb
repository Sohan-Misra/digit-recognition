{
 "cells": [
  {
   "cell_type": "code",
   "execution_count": 1,
   "metadata": {
    "executionInfo": {
     "elapsed": 2683,
     "status": "ok",
     "timestamp": 1656228384829,
     "user": {
      "displayName": "Sohan Misra",
      "userId": "04753328402385763291"
     },
     "user_tz": -330
    },
    "id": "fGqb7eEKkr_H"
   },
   "outputs": [],
   "source": [
    "import numpy as np\n",
    "import pandas as pd\n",
    "import matplotlib.pyplot as plt\n",
    "import tensorflow as tf \n",
    "from tensorflow import keras\n",
    "from keras import layers,models"
   ]
  },
  {
   "cell_type": "code",
   "execution_count": 2,
   "metadata": {
    "id": "vnQXMq3OlNQJ"
   },
   "outputs": [],
   "source": [
    "digit_mnist=keras.datasets.mnist"
   ]
  },
  {
   "cell_type": "code",
   "execution_count": 5,
   "metadata": {
    "colab": {
     "base_uri": "https://localhost:8080/"
    },
    "executionInfo": {
     "elapsed": 671,
     "status": "ok",
     "timestamp": 1655887707342,
     "user": {
      "displayName": "Sohan Misra",
      "userId": "04753328402385763291"
     },
     "user_tz": -330
    },
    "id": "6PItDwLhmCJp",
    "outputId": "734ce3f8-93a4-42d5-dadc-f4b4de537722"
   },
   "outputs": [],
   "source": [
    "(X_train_full,y_train_full),(X_test,y_test)=digit_mnist.load_data()"
   ]
  },
  {
   "cell_type": "code",
   "execution_count": 6,
   "metadata": {
    "colab": {
     "base_uri": "https://localhost:8080/"
    },
    "executionInfo": {
     "elapsed": 11,
     "status": "ok",
     "timestamp": 1655887731247,
     "user": {
      "displayName": "Sohan Misra",
      "userId": "04753328402385763291"
     },
     "user_tz": -330
    },
    "id": "OXKJuNBBmTSd",
    "outputId": "39bb77d5-92a1-477f-cc13-b4f19f782afe"
   },
   "outputs": [
    {
     "name": "stdout",
     "output_type": "stream",
     "text": [
      "(60000, 28, 28)\n"
     ]
    }
   ],
   "source": [
    "print(X_train_full.shape)"
   ]
  },
  {
   "cell_type": "code",
   "execution_count": 7,
   "metadata": {
    "colab": {
     "base_uri": "https://localhost:8080/"
    },
    "executionInfo": {
     "elapsed": 447,
     "status": "ok",
     "timestamp": 1655887799274,
     "user": {
      "displayName": "Sohan Misra",
      "userId": "04753328402385763291"
     },
     "user_tz": -330
    },
    "id": "MVWFl1TwmW9d",
    "outputId": "dfaad0b3-ea14-42ee-e9f9-34425c27f324"
   },
   "outputs": [
    {
     "name": "stdout",
     "output_type": "stream",
     "text": [
      "(10000, 28, 28)\n"
     ]
    }
   ],
   "source": [
    "print(X_test.shape)"
   ]
  },
  {
   "cell_type": "code",
   "execution_count": 8,
   "metadata": {
    "colab": {
     "base_uri": "https://localhost:8080/",
     "height": 282
    },
    "executionInfo": {
     "elapsed": 453,
     "status": "ok",
     "timestamp": 1655887843163,
     "user": {
      "displayName": "Sohan Misra",
      "userId": "04753328402385763291"
     },
     "user_tz": -330
    },
    "id": "0BI_WLmXmpoV",
    "outputId": "c7f29e41-c687-434c-95e7-e805510f2081"
   },
   "outputs": [
    {
     "data": {
      "text/plain": [
       "<matplotlib.image.AxesImage at 0x7f71eb5656a0>"
      ]
     },
     "execution_count": 8,
     "metadata": {},
     "output_type": "execute_result"
    },
    {
     "data": {
      "image/png": "[encoded data removed]",
      "text/plain": [
       "<Figure size 432x288 with 1 Axes>"
      ]
     },
     "metadata": {
      "needs_background": "light"
     },
     "output_type": "display_data"
    }
   ],
   "source": [
    "plt.imshow(X_train_full[0])"
   ]
  },
  {
   "cell_type": "code",
   "execution_count": 9,
   "metadata": {
    "colab": {
     "base_uri": "https://localhost:8080/"
    },
    "executionInfo": {
     "elapsed": 10,
     "status": "ok",
     "timestamp": 1655887871479,
     "user": {
      "displayName": "Sohan Misra",
      "userId": "04753328402385763291"
     },
     "user_tz": -330
    },
    "id": "4EaqDneamwtn",
    "outputId": "9924a719-c11b-42da-e78e-11c58a3117fa"
   },
   "outputs": [
    {
     "data": {
      "text/plain": [
       "5"
      ]
     },
     "execution_count": 9,
     "metadata": {},
     "output_type": "execute_result"
    }
   ],
   "source": [
    "y_train_full[0]"
   ]
  },
  {
   "cell_type": "code",
   "execution_count": 10,
   "metadata": {
    "colab": {
     "base_uri": "https://localhost:8080/"
    },
    "executionInfo": {
     "elapsed": 427,
     "status": "ok",
     "timestamp": 1655887964544,
     "user": {
      "displayName": "Sohan Misra",
      "userId": "04753328402385763291"
     },
     "user_tz": -330
    },
    "id": "fmMp8RjQm7X4",
    "outputId": "c83fcae9-60a5-4849-af4a-7250e9c08d3a"
   },
   "outputs": [
    {
     "data": {
      "text/plain": [
       "array([[  0,   0,   0,   0,   0,   0,   0,   0,   0,   0,   0,   0,   0,\n",
       "          0,   0,   0,   0,   0,   0,   0,   0,   0,   0,   0,   0,   0,\n",
       "          0,   0],\n",
       "       [  0,   0,   0,   0,   0,   0,   0,   0,   0,   0,   0,   0,   0,\n",
       "          0,   0,   0,   0,   0,   0,   0,   0,   0,   0,   0,   0,   0,\n",
       "          0,   0],\n",
       "       [  0,   0,   0,   0,   0,   0,   0,   0,   0,   0,   0,   0,   0,\n",
       "          0,   0,   0,   0,   0,   0,   0,   0,   0,   0,   0,   0,   0,\n",
       "          0,   0],\n",
       "       [  0,   0,   0,   0,   0,   0,   0,   0,   0,   0,   0,   0,   0,\n",
       "          0,   0,   0,   0,   0,   0,   0,   0,   0,   0,   0,   0,   0,\n",
       "          0,   0],\n",
       "       [  0,   0,   0,   0,   0,   0,   0,   0,   0,   0,   0,   0,   0,\n",
       "          0,   0,   0,   0,   0,   0,   0,   0,   0,   0,   0,   0,   0,\n",
       "          0,   0],\n",
       "       [  0,   0,   0,   0,   0,   0,   0,   0,   0,   0,   0,   0,   0,\n",
       "          0,   0,  13,  25, 100, 122,   7,   0,   0,   0,   0,   0,   0,\n",
       "          0,   0],\n",
       "       [  0,   0,   0,   0,   0,   0,   0,   0,   0,   0,   0,   0,   0,\n",
       "         33, 151, 208, 252, 252, 252, 146,   0,   0,   0,   0,   0,   0,\n",
       "          0,   0],\n",
       "       [  0,   0,   0,   0,   0,   0,   0,   0,   0,   0,   0,  40, 152,\n",
       "        244, 252, 253, 224, 211, 252, 232,  40,   0,   0,   0,   0,   0,\n",
       "          0,   0],\n",
       "       [  0,   0,   0,   0,   0,   0,   0,   0,   0,  15, 152, 239, 252,\n",
       "        252, 252, 216,  31,  37, 252, 252,  60,   0,   0,   0,   0,   0,\n",
       "          0,   0],\n",
       "       [  0,   0,   0,   0,   0,   0,   0,   0,   0,  96, 252, 252, 252,\n",
       "        252, 217,  29,   0,  37, 252, 252,  60,   0,   0,   0,   0,   0,\n",
       "          0,   0],\n",
       "       [  0,   0,   0,   0,   0,   0,   0,   0,   0, 181, 252, 252, 220,\n",
       "        167,  30,   0,   0,  77, 252, 252,  60,   0,   0,   0,   0,   0,\n",
       "          0,   0],\n",
       "       [  0,   0,   0,   0,   0,   0,   0,   0,   0,  26, 128,  58,  22,\n",
       "          0,   0,   0,   0, 100, 252, 252,  60,   0,   0,   0,   0,   0,\n",
       "          0,   0],\n",
       "       [  0,   0,   0,   0,   0,   0,   0,   0,   0,   0,   0,   0,   0,\n",
       "          0,   0,   0,   0, 157, 252, 252,  60,   0,   0,   0,   0,   0,\n",
       "          0,   0],\n",
       "       [  0,   0,   0,   0,   0,   0,   0,   0,   0,   0,   0,   0,   0,\n",
       "        110, 121, 122, 121, 202, 252, 194,   3,   0,   0,   0,   0,   0,\n",
       "          0,   0],\n",
       "       [  0,   0,   0,   0,   0,   0,   0,   0,   0,   0,  10,  53, 179,\n",
       "        253, 253, 255, 253, 253, 228,  35,   0,   0,   0,   0,   0,   0,\n",
       "          0,   0],\n",
       "       [  0,   0,   0,   0,   0,   0,   0,   0,   5,  54, 227, 252, 243,\n",
       "        228, 170, 242, 252, 252, 231, 117,   6,   0,   0,   0,   0,   0,\n",
       "          0,   0],\n",
       "       [  0,   0,   0,   0,   0,   0,   0,   6,  78, 252, 252, 125,  59,\n",
       "          0,  18, 208, 252, 252, 252, 252,  87,   7,   0,   0,   0,   0,\n",
       "          0,   0],\n",
       "       [  0,   0,   0,   0,   0,   0,   5, 135, 252, 252, 180,  16,   0,\n",
       "         21, 203, 253, 247, 129, 173, 252, 252, 184,  66,  49,  49,   0,\n",
       "          0,   0],\n",
       "       [  0,   0,   0,   0,   0,   3, 136, 252, 241, 106,  17,   0,  53,\n",
       "        200, 252, 216,  65,   0,  14,  72, 163, 241, 252, 252, 223,   0,\n",
       "          0,   0],\n",
       "       [  0,   0,   0,   0,   0, 105, 252, 242,  88,  18,  73, 170, 244,\n",
       "        252, 126,  29,   0,   0,   0,   0,   0,  89, 180, 180,  37,   0,\n",
       "          0,   0],\n",
       "       [  0,   0,   0,   0,   0, 231, 252, 245, 205, 216, 252, 252, 252,\n",
       "        124,   3,   0,   0,   0,   0,   0,   0,   0,   0,   0,   0,   0,\n",
       "          0,   0],\n",
       "       [  0,   0,   0,   0,   0, 207, 252, 252, 252, 252, 178, 116,  36,\n",
       "          4,   0,   0,   0,   0,   0,   0,   0,   0,   0,   0,   0,   0,\n",
       "          0,   0],\n",
       "       [  0,   0,   0,   0,   0,  13,  93, 143, 121,  23,   6,   0,   0,\n",
       "          0,   0,   0,   0,   0,   0,   0,   0,   0,   0,   0,   0,   0,\n",
       "          0,   0],\n",
       "       [  0,   0,   0,   0,   0,   0,   0,   0,   0,   0,   0,   0,   0,\n",
       "          0,   0,   0,   0,   0,   0,   0,   0,   0,   0,   0,   0,   0,\n",
       "          0,   0],\n",
       "       [  0,   0,   0,   0,   0,   0,   0,   0,   0,   0,   0,   0,   0,\n",
       "          0,   0,   0,   0,   0,   0,   0,   0,   0,   0,   0,   0,   0,\n",
       "          0,   0],\n",
       "       [  0,   0,   0,   0,   0,   0,   0,   0,   0,   0,   0,   0,   0,\n",
       "          0,   0,   0,   0,   0,   0,   0,   0,   0,   0,   0,   0,   0,\n",
       "          0,   0],\n",
       "       [  0,   0,   0,   0,   0,   0,   0,   0,   0,   0,   0,   0,   0,\n",
       "          0,   0,   0,   0,   0,   0,   0,   0,   0,   0,   0,   0,   0,\n",
       "          0,   0],\n",
       "       [  0,   0,   0,   0,   0,   0,   0,   0,   0,   0,   0,   0,   0,\n",
       "          0,   0,   0,   0,   0,   0,   0,   0,   0,   0,   0,   0,   0,\n",
       "          0,   0]], dtype=uint8)"
      ]
     },
     "execution_count": 10,
     "metadata": {},
     "output_type": "execute_result"
    }
   ],
   "source": [
    "X_train_full[5]"
   ]
  },
  {
   "cell_type": "code",
   "execution_count": 11,
   "metadata": {
    "id": "ntfvEtNznTi2"
   },
   "outputs": [],
   "source": [
    "X_train_norm=X_train_full/255\n",
    "X_test_norm=X_test/255"
   ]
  },
  {
   "cell_type": "code",
   "execution_count": 12,
   "metadata": {
    "id": "wM9CMir6nfIZ"
   },
   "outputs": [],
   "source": [
    "X_valid,X_train = X_train_norm[:6000],X_train_norm[6000:]\n",
    "y_valid,y_train = y_train_full[:6000],y_train_full[6000:]"
   ]
  },
  {
   "cell_type": "code",
   "execution_count": 13,
   "metadata": {
    "id": "0D2w1vspoAMX"
   },
   "outputs": [],
   "source": [
    "X_test_final=X_test_norm"
   ]
  },
  {
   "cell_type": "code",
   "execution_count": 14,
   "metadata": {
    "id": "rS5gPdwpoG7E"
   },
   "outputs": [],
   "source": [
    "np.random.seed(62)\n",
    "tf.random.set_seed(62)"
   ]
  },
  {
   "cell_type": "code",
   "execution_count": 15,
   "metadata": {
    "id": "KwoBPt1Woio7"
   },
   "outputs": [
    {
     "name": "stderr",
     "output_type": "stream",
     "text": [
      "2022-09-16 13:57:19.691809: I tensorflow/core/platform/cpu_feature_guard.cc:142] This TensorFlow binary is optimized with oneAPI Deep Neural Network Library (oneDNN) to use the following CPU instructions in performance-critical operations:  SSE4.1 SSE4.2 AVX AVX2 AVX512F FMA\n",
      "To enable them in other operations, rebuild TensorFlow with the appropriate compiler flags.\n",
      "2022-09-16 13:57:19.741125: I tensorflow/core/common_runtime/process_util.cc:146] Creating new thread pool with default inter op setting: 2. Tune using inter_op_parallelism_threads for best performance.\n"
     ]
    }
   ],
   "source": [
    "model=keras.models.Sequential(\n",
    "    [\n",
    "     layers.Flatten(input_shape=[28,28]),\n",
    "     layers.Dense(200,activation='relu'),\n",
    "     layers.Dense(100,activation='relu'),\n",
    "     layers.Dense(10,activation='softmax')\n",
    "    ]\n",
    ")"
   ]
  },
  {
   "cell_type": "code",
   "execution_count": 14,
   "metadata": {
    "colab": {
     "base_uri": "https://localhost:8080/"
    },
    "executionInfo": {
     "elapsed": 37,
     "status": "ok",
     "timestamp": 1655888875217,
     "user": {
      "displayName": "Sohan Misra",
      "userId": "04753328402385763291"
     },
     "user_tz": -330
    },
    "id": "QJZNGGNwqlFc",
    "outputId": "6c1781b3-a3d8-49a0-8d1f-38f7de675bff"
   },
   "outputs": [
    {
     "name": "stdout",
     "output_type": "stream",
     "text": [
      "Model: \"sequential\"\n",
      "_________________________________________________________________\n",
      "Layer (type)                 Output Shape              Param #   \n",
      "=================================================================\n",
      "flatten (Flatten)            (None, 784)               0         \n",
      "_________________________________________________________________\n",
      "dense (Dense)                (None, 200)               157000    \n",
      "_________________________________________________________________\n",
      "dense_1 (Dense)              (None, 100)               20100     \n",
      "_________________________________________________________________\n",
      "dense_2 (Dense)              (None, 10)                1010      \n",
      "=================================================================\n",
      "Total params: 178,110\n",
      "Trainable params: 178,110\n",
      "Non-trainable params: 0\n",
      "_________________________________________________________________\n"
     ]
    }
   ],
   "source": [
    "model.summary()"
   ]
  },
  {
   "cell_type": "code",
   "execution_count": 17,
   "metadata": {
    "id": "iRsO6Ynqq7HH"
   },
   "outputs": [],
   "source": [
    "from keras.backend import sparse_categorical_crossentropy\n",
    "model.compile(loss= sparse_categorical_crossentropy,optimizer='adam',metrics=['accuracy'])"
   ]
  },
  {
   "cell_type": "code",
   "execution_count": 18,
   "metadata": {
    "colab": {
     "base_uri": "https://localhost:8080/"
    },
    "executionInfo": {
     "elapsed": 111662,
     "status": "ok",
     "timestamp": 1655889618163,
     "user": {
      "displayName": "Sohan Misra",
      "userId": "04753328402385763291"
     },
     "user_tz": -330
    },
    "id": "J_wLlHRorj6H",
    "outputId": "3c7d3ef8-88b9-4f6b-ca0d-868b18f168bb"
   },
   "outputs": [
    {
     "name": "stderr",
     "output_type": "stream",
     "text": [
      "2022-09-16 13:57:47.173258: I tensorflow/compiler/mlir/mlir_graph_optimization_pass.cc:176] None of the MLIR Optimization Passes are enabled (registered 2)\n",
      "2022-09-16 13:57:47.267801: I tensorflow/core/platform/profile_utils/cpu_utils.cc:114] CPU Frequency: 1190400000 Hz\n"
     ]
    },
    {
     "name": "stdout",
     "output_type": "stream",
     "text": [
      "Epoch 1/60\n",
      "1688/1688 [==============================] - 10s 5ms/step - loss: 0.2265 - accuracy: 0.9320 - val_loss: 0.1211 - val_accuracy: 0.9657\n",
      "Epoch 2/60\n",
      "1688/1688 [==============================] - 9s 5ms/step - loss: 0.0931 - accuracy: 0.9716 - val_loss: 0.0973 - val_accuracy: 0.9690\n",
      "Epoch 3/60\n",
      "1688/1688 [==============================] - 8s 5ms/step - loss: 0.0617 - accuracy: 0.9800 - val_loss: 0.0875 - val_accuracy: 0.9733\n",
      "Epoch 4/60\n",
      "1688/1688 [==============================] - 9s 5ms/step - loss: 0.0467 - accuracy: 0.9847 - val_loss: 0.0822 - val_accuracy: 0.9760\n",
      "Epoch 5/60\n",
      "1688/1688 [==============================] - 9s 5ms/step - loss: 0.0379 - accuracy: 0.9876 - val_loss: 0.0820 - val_accuracy: 0.9767\n",
      "Epoch 6/60\n",
      "1688/1688 [==============================] - 8s 5ms/step - loss: 0.0301 - accuracy: 0.9900 - val_loss: 0.0759 - val_accuracy: 0.9787\n",
      "Epoch 7/60\n",
      "1688/1688 [==============================] - 10s 6ms/step - loss: 0.0259 - accuracy: 0.9914 - val_loss: 0.1070 - val_accuracy: 0.9723\n",
      "Epoch 8/60\n",
      "1688/1688 [==============================] - 12s 7ms/step - loss: 0.0212 - accuracy: 0.9934 - val_loss: 0.0829 - val_accuracy: 0.9815\n",
      "Epoch 9/60\n",
      "1688/1688 [==============================] - 10s 6ms/step - loss: 0.0194 - accuracy: 0.9930 - val_loss: 0.0972 - val_accuracy: 0.9787\n",
      "Epoch 10/60\n",
      "1688/1688 [==============================] - 11s 6ms/step - loss: 0.0191 - accuracy: 0.9937 - val_loss: 0.0908 - val_accuracy: 0.9787\n",
      "Epoch 11/60\n",
      "1688/1688 [==============================] - 11s 7ms/step - loss: 0.0156 - accuracy: 0.9951 - val_loss: 0.0968 - val_accuracy: 0.9783\n",
      "Epoch 12/60\n",
      "1688/1688 [==============================] - 10s 6ms/step - loss: 0.0139 - accuracy: 0.9950 - val_loss: 0.0952 - val_accuracy: 0.9787\n",
      "Epoch 13/60\n",
      "1688/1688 [==============================] - 8s 5ms/step - loss: 0.0125 - accuracy: 0.9957 - val_loss: 0.1271 - val_accuracy: 0.9737\n",
      "Epoch 14/60\n",
      "1688/1688 [==============================] - 9s 6ms/step - loss: 0.0122 - accuracy: 0.9959 - val_loss: 0.0999 - val_accuracy: 0.9785\n",
      "Epoch 15/60\n",
      "1688/1688 [==============================] - 11s 7ms/step - loss: 0.0139 - accuracy: 0.9956 - val_loss: 0.0992 - val_accuracy: 0.9797\n",
      "Epoch 16/60\n",
      "1688/1688 [==============================] - 10s 6ms/step - loss: 0.0100 - accuracy: 0.9966 - val_loss: 0.1172 - val_accuracy: 0.9783\n",
      "Epoch 17/60\n",
      "1688/1688 [==============================] - 12s 7ms/step - loss: 0.0120 - accuracy: 0.9963 - val_loss: 0.1056 - val_accuracy: 0.9810\n",
      "Epoch 18/60\n",
      "1688/1688 [==============================] - 14s 8ms/step - loss: 0.0100 - accuracy: 0.9966 - val_loss: 0.1307 - val_accuracy: 0.9772\n",
      "Epoch 19/60\n",
      "1688/1688 [==============================] - 12s 7ms/step - loss: 0.0107 - accuracy: 0.9963 - val_loss: 0.1179 - val_accuracy: 0.9798\n",
      "Epoch 20/60\n",
      "1688/1688 [==============================] - 13s 8ms/step - loss: 0.0105 - accuracy: 0.9971 - val_loss: 0.1153 - val_accuracy: 0.9808\n",
      "Epoch 21/60\n",
      "1688/1688 [==============================] - 12s 7ms/step - loss: 0.0094 - accuracy: 0.9971 - val_loss: 0.1171 - val_accuracy: 0.9813\n",
      "Epoch 22/60\n",
      "1688/1688 [==============================] - 13s 8ms/step - loss: 0.0076 - accuracy: 0.9977 - val_loss: 0.1193 - val_accuracy: 0.9803\n",
      "Epoch 23/60\n",
      "1688/1688 [==============================] - 12s 7ms/step - loss: 0.0111 - accuracy: 0.9968 - val_loss: 0.1290 - val_accuracy: 0.9795\n",
      "Epoch 24/60\n",
      "1688/1688 [==============================] - 14s 8ms/step - loss: 0.0081 - accuracy: 0.9972 - val_loss: 0.1410 - val_accuracy: 0.9798\n",
      "Epoch 25/60\n",
      "1688/1688 [==============================] - 9s 5ms/step - loss: 0.0055 - accuracy: 0.9986 - val_loss: 0.1466 - val_accuracy: 0.9775\n",
      "Epoch 26/60\n",
      "1688/1688 [==============================] - 7s 4ms/step - loss: 0.0100 - accuracy: 0.9969 - val_loss: 0.1497 - val_accuracy: 0.9793\n",
      "Epoch 27/60\n",
      "1688/1688 [==============================] - 6s 4ms/step - loss: 0.0071 - accuracy: 0.9978 - val_loss: 0.1384 - val_accuracy: 0.9780\n",
      "Epoch 28/60\n",
      "1688/1688 [==============================] - 7s 4ms/step - loss: 0.0080 - accuracy: 0.9975 - val_loss: 0.1316 - val_accuracy: 0.9798\n",
      "Epoch 29/60\n",
      "1688/1688 [==============================] - 10s 6ms/step - loss: 0.0075 - accuracy: 0.9978 - val_loss: 0.1373 - val_accuracy: 0.9792\n",
      "Epoch 30/60\n",
      "1688/1688 [==============================] - 8s 5ms/step - loss: 0.0092 - accuracy: 0.9971 - val_loss: 0.1612 - val_accuracy: 0.9760\n",
      "Epoch 31/60\n",
      "1688/1688 [==============================] - 8s 5ms/step - loss: 0.0068 - accuracy: 0.9981 - val_loss: 0.1274 - val_accuracy: 0.9805\n",
      "Epoch 32/60\n",
      "1688/1688 [==============================] - 6s 4ms/step - loss: 0.0050 - accuracy: 0.9986 - val_loss: 0.1597 - val_accuracy: 0.9783\n",
      "Epoch 33/60\n",
      "1688/1688 [==============================] - 6s 3ms/step - loss: 0.0068 - accuracy: 0.9980 - val_loss: 0.1380 - val_accuracy: 0.9807\n",
      "Epoch 34/60\n",
      "1688/1688 [==============================] - 6s 4ms/step - loss: 0.0096 - accuracy: 0.9976 - val_loss: 0.1389 - val_accuracy: 0.9820\n",
      "Epoch 35/60\n",
      "1688/1688 [==============================] - 6s 3ms/step - loss: 0.0071 - accuracy: 0.9981 - val_loss: 0.1569 - val_accuracy: 0.9790\n",
      "Epoch 36/60\n",
      "1688/1688 [==============================] - 6s 3ms/step - loss: 0.0048 - accuracy: 0.9987 - val_loss: 0.1675 - val_accuracy: 0.9795\n",
      "Epoch 37/60\n",
      "1688/1688 [==============================] - 8s 4ms/step - loss: 0.0056 - accuracy: 0.9984 - val_loss: 0.1574 - val_accuracy: 0.9803\n",
      "Epoch 38/60\n",
      "1688/1688 [==============================] - 8s 4ms/step - loss: 0.0072 - accuracy: 0.9979 - val_loss: 0.1544 - val_accuracy: 0.9812\n",
      "Epoch 39/60\n",
      "1688/1688 [==============================] - 8s 5ms/step - loss: 0.0047 - accuracy: 0.9987 - val_loss: 0.1583 - val_accuracy: 0.9832\n",
      "Epoch 40/60\n",
      "1688/1688 [==============================] - 8s 5ms/step - loss: 0.0079 - accuracy: 0.9981 - val_loss: 0.1570 - val_accuracy: 0.9785\n",
      "Epoch 41/60\n",
      "1688/1688 [==============================] - 8s 5ms/step - loss: 0.0078 - accuracy: 0.9981 - val_loss: 0.1664 - val_accuracy: 0.9793\n",
      "Epoch 42/60\n",
      "1688/1688 [==============================] - 6s 4ms/step - loss: 0.0070 - accuracy: 0.9985 - val_loss: 0.1696 - val_accuracy: 0.9807\n",
      "Epoch 43/60\n",
      "1688/1688 [==============================] - 10s 6ms/step - loss: 0.0042 - accuracy: 0.9988 - val_loss: 0.1638 - val_accuracy: 0.9793\n",
      "Epoch 44/60\n",
      "1688/1688 [==============================] - 7s 4ms/step - loss: 0.0073 - accuracy: 0.9981 - val_loss: 0.1478 - val_accuracy: 0.9812\n",
      "Epoch 45/60\n",
      "1688/1688 [==============================] - 6s 4ms/step - loss: 0.0067 - accuracy: 0.9984 - val_loss: 0.1787 - val_accuracy: 0.9798\n",
      "Epoch 46/60\n",
      "1688/1688 [==============================] - 6s 4ms/step - loss: 0.0068 - accuracy: 0.9981 - val_loss: 0.1672 - val_accuracy: 0.9813\n",
      "Epoch 47/60\n",
      "1688/1688 [==============================] - 8s 5ms/step - loss: 0.0064 - accuracy: 0.9981 - val_loss: 0.1688 - val_accuracy: 0.9825\n",
      "Epoch 48/60\n",
      "1688/1688 [==============================] - 8s 5ms/step - loss: 0.0046 - accuracy: 0.9989 - val_loss: 0.1772 - val_accuracy: 0.9802\n",
      "Epoch 49/60\n",
      "1688/1688 [==============================] - 8s 5ms/step - loss: 0.0068 - accuracy: 0.9984 - val_loss: 0.1845 - val_accuracy: 0.9810\n",
      "Epoch 50/60\n",
      "1688/1688 [==============================] - 8s 5ms/step - loss: 0.0065 - accuracy: 0.9984 - val_loss: 0.2447 - val_accuracy: 0.9775\n",
      "Epoch 51/60\n",
      "1688/1688 [==============================] - 8s 5ms/step - loss: 0.0049 - accuracy: 0.9988 - val_loss: 0.1815 - val_accuracy: 0.9815\n",
      "Epoch 52/60\n",
      "1688/1688 [==============================] - 8s 5ms/step - loss: 0.0068 - accuracy: 0.9982 - val_loss: 0.2143 - val_accuracy: 0.9775\n",
      "Epoch 53/60\n",
      "1688/1688 [==============================] - 7s 4ms/step - loss: 0.0056 - accuracy: 0.9986 - val_loss: 0.1735 - val_accuracy: 0.9828\n",
      "Epoch 54/60\n",
      "1688/1688 [==============================] - 8s 5ms/step - loss: 0.0060 - accuracy: 0.9983 - val_loss: 0.1993 - val_accuracy: 0.9790\n",
      "Epoch 55/60\n",
      "1688/1688 [==============================] - 9s 5ms/step - loss: 0.0085 - accuracy: 0.9981 - val_loss: 0.1989 - val_accuracy: 0.9808\n",
      "Epoch 56/60\n",
      "1688/1688 [==============================] - 8s 5ms/step - loss: 0.0050 - accuracy: 0.9991 - val_loss: 0.2095 - val_accuracy: 0.9808\n",
      "Epoch 57/60\n",
      "1688/1688 [==============================] - 13s 8ms/step - loss: 0.0073 - accuracy: 0.9983 - val_loss: 0.2042 - val_accuracy: 0.9808\n",
      "Epoch 58/60\n",
      "1688/1688 [==============================] - 7s 4ms/step - loss: 0.0029 - accuracy: 0.9991 - val_loss: 0.1800 - val_accuracy: 0.9832\n",
      "Epoch 59/60\n",
      "1688/1688 [==============================] - 8s 5ms/step - loss: 0.0065 - accuracy: 0.9986 - val_loss: 0.2138 - val_accuracy: 0.9803\n",
      "Epoch 60/60\n",
      "1688/1688 [==============================] - 8s 5ms/step - loss: 0.0041 - accuracy: 0.9990 - val_loss: 0.2068 - val_accuracy: 0.9800\n"
     ]
    }
   ],
   "source": [
    "model_history=model.fit(X_train,y_train,epochs=60,validation_data=(X_valid,y_valid))"
   ]
  },
  {
   "cell_type": "code",
   "execution_count": 19,
   "metadata": {
    "colab": {
     "base_uri": "https://localhost:8080/"
    },
    "executionInfo": {
     "elapsed": 650,
     "status": "ok",
     "timestamp": 1655889802560,
     "user": {
      "displayName": "Sohan Misra",
      "userId": "04753328402385763291"
     },
     "user_tz": -330
    },
    "id": "czpWvBEmr53s",
    "outputId": "6bca8183-d249-479e-c036-3889b6bfd950"
   },
   "outputs": [
    {
     "data": {
      "text/plain": [
       "{'verbose': 1, 'epochs': 60, 'steps': 1688}"
      ]
     },
     "execution_count": 19,
     "metadata": {},
     "output_type": "execute_result"
    }
   ],
   "source": [
    "model_history.params"
   ]
  },
  {
   "cell_type": "code",
   "execution_count": null,
   "metadata": {
    "id": "ikFFN1zxuPQJ"
   },
   "outputs": [],
   "source": [
    "model_history.history"
   ]
  },
  {
   "cell_type": "code",
   "execution_count": 21,
   "metadata": {
    "colab": {
     "base_uri": "https://localhost:8080/",
     "height": 537
    },
    "executionInfo": {
     "elapsed": 1510,
     "status": "ok",
     "timestamp": 1655889965230,
     "user": {
      "displayName": "Sohan Misra",
      "userId": "04753328402385763291"
     },
     "user_tz": -330
    },
    "id": "DePJMJLWudRM",
    "outputId": "80f3be9e-af4d-4dd2-f60e-17e38a1ee47d"
   },
   "outputs": [
    {
     "data": {
      "image/png": "[encoded data removed]",
      "text/plain": [
       "<Figure size 864x648 with 1 Axes>"
      ]
     },
     "metadata": {
      "needs_background": "light"
     },
     "output_type": "display_data"
    }
   ],
   "source": [
    "pd.DataFrame(model_history.history).plot(figsize=(12,9))\n",
    "plt.grid(True)\n",
    "plt.gca().set_ylim(0,1.5)\n",
    "plt.show()"
   ]
  },
  {
   "cell_type": "code",
   "execution_count": 22,
   "metadata": {
    "colab": {
     "base_uri": "https://localhost:8080/"
    },
    "executionInfo": {
     "elapsed": 781,
     "status": "ok",
     "timestamp": 1655890118358,
     "user": {
      "displayName": "Sohan Misra",
      "userId": "04753328402385763291"
     },
     "user_tz": -330
    },
    "id": "PbdtTOS9uz0o",
    "outputId": "e6f7c944-3c88-447a-ce93-3b030dd9b17b"
   },
   "outputs": [
    {
     "name": "stdout",
     "output_type": "stream",
     "text": [
      "313/313 [==============================] - 1s 3ms/step - loss: 0.2388 - accuracy: 0.9804\n"
     ]
    }
   ],
   "source": [
    "score=model.evaluate(X_test_final,y_test)"
   ]
  },
  {
   "cell_type": "code",
   "execution_count": 23,
   "metadata": {
    "colab": {
     "base_uri": "https://localhost:8080/"
    },
    "executionInfo": {
     "elapsed": 638,
     "status": "ok",
     "timestamp": 1655890154324,
     "user": {
      "displayName": "Sohan Misra",
      "userId": "04753328402385763291"
     },
     "user_tz": -330
    },
    "id": "iQWD5yHzvFm-",
    "outputId": "0ae65f57-7e5e-4cba-e3d2-067d6536089e"
   },
   "outputs": [
    {
     "name": "stdout",
     "output_type": "stream",
     "text": [
      "Loss:  0.23875842988491058\n",
      "Accuracy:  0.980400025844574\n"
     ]
    }
   ],
   "source": [
    "print(\"Loss: \",score[0])\n",
    "print(\"Accuracy: \",score[1])"
   ]
  },
  {
   "cell_type": "code",
   "execution_count": 24,
   "metadata": {
    "id": "gltrTHlzvo5U"
   },
   "outputs": [],
   "source": [
    "X_new=X_test_final[:5]\n",
    "pred=model.predict(X_new)"
   ]
  },
  {
   "cell_type": "code",
   "execution_count": 25,
   "metadata": {
    "colab": {
     "base_uri": "https://localhost:8080/"
    },
    "executionInfo": {
     "elapsed": 445,
     "status": "ok",
     "timestamp": 1655890267531,
     "user": {
      "displayName": "Sohan Misra",
      "userId": "04753328402385763291"
     },
     "user_tz": -330
    },
    "id": "d4sBky5qv5bg",
    "outputId": "be372745-ceda-4cff-9712-2bc6212fd9b5"
   },
   "outputs": [
    {
     "name": "stdout",
     "output_type": "stream",
     "text": [
      "[[0. 0. 0. 0. 0. 0. 0. 1. 0. 0.]\n",
      " [0. 0. 1. 0. 0. 0. 0. 0. 0. 0.]\n",
      " [0. 1. 0. 0. 0. 0. 0. 0. 0. 0.]\n",
      " [1. 0. 0. 0. 0. 0. 0. 0. 0. 0.]\n",
      " [0. 0. 0. 0. 1. 0. 0. 0. 0. 0.]]\n"
     ]
    }
   ],
   "source": [
    "print(pred.round(2))"
   ]
  },
  {
   "cell_type": "code",
   "execution_count": 26,
   "metadata": {
    "colab": {
     "base_uri": "https://localhost:8080/"
    },
    "executionInfo": {
     "elapsed": 389,
     "status": "ok",
     "timestamp": 1655890384578,
     "user": {
      "displayName": "Sohan Misra",
      "userId": "04753328402385763291"
     },
     "user_tz": -330
    },
    "id": "amG5rQUev7H1",
    "outputId": "4c33ff0a-a14e-4060-e308-a569ed1f20f4"
   },
   "outputs": [
    {
     "name": "stdout",
     "output_type": "stream",
     "text": [
      "[7 2 1 0 4]\n"
     ]
    }
   ],
   "source": [
    "print(np.argmax(pred,axis=1))"
   ]
  },
  {
   "cell_type": "code",
   "execution_count": null,
   "metadata": {
    "id": "0CXVuvPVwNnX"
   },
   "outputs": [],
   "source": []
  }
 ],
 "metadata": {
  "colab": {
   "authorship_tag": "ABX9TyOWy4s7Zfjz+CBcErCzT19P",
   "collapsed_sections": [],
   "name": "DigitMnist.ipynb",
   "provenance": []
  },
  "kernelspec": {
   "display_name": "Python 3 (ipykernel)",
   "language": "python",
   "name": "python3"
  },
  "language_info": {
   "codemirror_mode": {
    "name": "ipython",
    "version": 3
   },
   "file_extension": ".py",
   "mimetype": "text/x-python",
   "name": "python",
   "nbconvert_exporter": "python",
   "pygments_lexer": "ipython3",
   "version": "3.9.7"
  }
 },
 "nbformat": 4,
 "nbformat_minor": 4
}
